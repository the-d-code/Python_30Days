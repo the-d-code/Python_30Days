{
 "cells": [
  {
   "cell_type": "markdown",
   "metadata": {},
   "source": [
    "# 10-01-2023 | DAY 4  | Control flow statement"
   ]
  },
  {
   "cell_type": "markdown",
   "metadata": {},
   "source": [
    "# if condition"
   ]
  },
  {
   "cell_type": "code",
   "execution_count": 2,
   "metadata": {},
   "outputs": [
    {
     "name": "stdout",
     "output_type": "stream",
     "text": [
      "Total marks of student 254\n",
      "Percentage of student 50.8\n"
     ]
    }
   ],
   "source": [
    "# write a program to calculate the percentage of a student in the subject maths, science, social, english, hindi\n",
    "\n",
    "x = input(\"Enter the name of studnet: \")\n",
    "y = int(input(\"Enter the marks of maths: \"))\n",
    "z = int(input(\"Enter the marks of science: \"))\n",
    "a = int(input(\"Enter the marks of social: \"))\n",
    "b = int(input(\"Enter the marks of english: \"))\n",
    "c = int(input(\"Enter the marks of hindi: \"))\n",
    "\n",
    "n = y + z + a + b + c\n",
    "print(\"Total marks of student\", n)\n",
    "\n",
    "p =(n / 500)*100\n",
    "print(\"Percentage of student\", p)"
   ]
  },
  {
   "cell_type": "code",
   "execution_count": 5,
   "metadata": {},
   "outputs": [
    {
     "name": "stdout",
     "output_type": "stream",
     "text": [
      "Grade A\n"
     ]
    }
   ],
   "source": [
    "# percentage\n",
    "\n",
    "a = int(input(\"Enter the percentage : \"))\n",
    "\n",
    "if a >= 90:\n",
    "    print(\"Grade A\")\n",
    "elif a >= 80:\n",
    "    print(\"Grade B\")\n",
    "elif a >= 70:\n",
    "    print(\"Grade C\")\n",
    "elif a >= 60:\n",
    "    print(\"Grade D\")\n",
    "elif a >= 40:\n",
    "    print(\"Grade E\")\n",
    "else:\n",
    "    print(\"Grade F\")\n",
    "    "
   ]
  },
  {
   "cell_type": "markdown",
   "metadata": {},
   "source": [
    "# if else"
   ]
  },
  {
   "cell_type": "code",
   "execution_count": 7,
   "metadata": {},
   "outputs": [
    {
     "name": "stdout",
     "output_type": "stream",
     "text": [
      "Hello\n"
     ]
    }
   ],
   "source": [
    "# write a program to display hello if number enterd by user id a multiple of five, otherwise print bye\n",
    "\n",
    "a = int(input(\"Enter the number: \"))\n",
    "if a % 5 == 0:\n",
    "    print(\"Hello\")\n",
    "else:\n",
    "    print(\"Bye\")\n",
    "    "
   ]
  },
  {
   "cell_type": "code",
   "execution_count": 9,
   "metadata": {},
   "outputs": [
    {
     "name": "stdout",
     "output_type": "stream",
     "text": [
      "Positive number\n"
     ]
    }
   ],
   "source": [
    "# positive or negative number\n",
    "\n",
    "a = int(input(\"Enter the number: \"))\n",
    "if a > 0:\n",
    "    print(\"Positive number\")\n",
    "elif a < 0:\n",
    "    print(\"Negative number\")\n",
    "else:\n",
    "    print(\"Zero\")\n"
   ]
  },
  {
   "cell_type": "markdown",
   "metadata": {},
   "source": [
    "# if else if\n",
    "\n",
    "- if elif else"
   ]
  },
  {
   "cell_type": "code",
   "execution_count": 13,
   "metadata": {},
   "outputs": [
    {
     "name": "stdout",
     "output_type": "stream",
     "text": [
      "Hawa mahal\n"
     ]
    }
   ],
   "source": [
    "# accept the city and print its monuments\n",
    "\n",
    "a = input(\"Enter the city name: \")\n",
    "if a == \"delhi\":\n",
    "    print(\"Red fort\")\n",
    "elif a == \"agra\":\n",
    "    print(\"Taj mahal\")\n",
    "elif a == \"jaipur\":\n",
    "    print(\"Hawa mahal\")\n",
    "else:\n",
    "    print(\"Enter the valid city name\")\n",
    "    "
   ]
  },
  {
   "cell_type": "code",
   "execution_count": null,
   "metadata": {},
   "outputs": [],
   "source": []
  }
 ],
 "metadata": {
  "kernelspec": {
   "display_name": "base",
   "language": "python",
   "name": "python3"
  },
  "language_info": {
   "codemirror_mode": {
    "name": "ipython",
    "version": 3
   },
   "file_extension": ".py",
   "mimetype": "text/x-python",
   "name": "python",
   "nbconvert_exporter": "python",
   "pygments_lexer": "ipython3",
   "version": "3.11.5"
  }
 },
 "nbformat": 4,
 "nbformat_minor": 2
}
