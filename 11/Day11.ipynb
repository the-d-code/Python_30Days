{
 "cells": [
  {
   "cell_type": "markdown",
   "metadata": {},
   "source": [
    "# 11-01-2023 | DAY 11 | Sets"
   ]
  },
  {
   "cell_type": "code",
   "execution_count": 1,
   "metadata": {},
   "outputs": [
    {
     "name": "stdout",
     "output_type": "stream",
     "text": [
      "{1, 2, 3, 4, 5}\n",
      "{'e', 'd', 'a', 'b', 'c'}\n",
      "{1.1, 2.2, 3.3, 4.4, 5.5}\n",
      "{'e', 1, 2, 3, 4, 5, 'a', 'b', 'c', 'd'}\n",
      "{1, 2, 3, 4, 5, 1.1, 2.2, 3.3, 4.4, 5.5}\n",
      "{'e', 1, 2, 3, 4, 5, 'a', 1.1, 'b', 2.2, 3.3, 4.4, 'c', 5.5, 'd'}\n",
      "<class 'set'>\n",
      "<class 'set'>\n",
      "<class 'set'>\n",
      "<class 'set'>\n",
      "<class 'set'>\n",
      "<class 'set'>\n"
     ]
    }
   ],
   "source": [
    "# creating a set\n",
    "a = {1, 2, 3, 4, 5}\n",
    "print(a)\n",
    "print(type(a))\n",
    "b = {\"a\", \"b\", \"c\", \"d\", \"e\"}\n",
    "print(b)\n",
    "print(type(b))\n",
    "c = {1.1, 2.2, 3.3, 4.4, 5.5}\n",
    "d = {1, 2, 3, 4, 5, \"a\", \"b\", \"c\", \"d\", \"e\"}\n",
    "e = {1, 2, 3, 4, 5, 1.1, 2.2, 3.3, 4.4, 5.5}\n",
    "f = {1, 2, 3, 4, 5, \"a\", \"b\", \"c\", \"d\", \"e\", 1.1, 2.2, 3.3, 4.4, 5.5}\n",
    "\n"
   ]
  },
  {
   "cell_type": "code",
   "execution_count": 5,
   "metadata": {},
   "outputs": [
    {
     "name": "stdout",
     "output_type": "stream",
     "text": [
      "{'Human', 'Insect', 'Animal', 'Bird', 'Fish'}\n"
     ]
    }
   ],
   "source": [
    "# set items are unordered, unchangeable, and do not allow duplicate values\n",
    "\n",
    "# unordered\n",
    "a = {\"Animal\", \"Human\", \"Bird\", \"Fish\", \"Insect\"}\n",
    "# print(a[1])\n",
    "\n",
    "# Duplicate values will be ignored\n",
    "a = {\"Animal\", \"Human\", \"Bird\", \"Fish\", \"Insect\", \"Human\"}\n",
    "print(a)\n",
    "\n",
    "# unchangeable\n",
    "a = {\"Animal\", \"Human\", \"Bird\", \"Fish\", \"Insect\"}\n",
    "# a[1] = \"Dog\"\n",
    "# print(a)\n",
    "\n"
   ]
  },
  {
   "cell_type": "markdown",
   "metadata": {},
   "source": [
    "# true and 1 are the same"
   ]
  },
  {
   "cell_type": "code",
   "execution_count": 6,
   "metadata": {},
   "outputs": [
    {
     "name": "stdout",
     "output_type": "stream",
     "text": [
      "{1, 2, 3, 4, 5}\n"
     ]
    }
   ],
   "source": [
    "\n",
    "a = {1, 2, 3, 4, 5, True}\n",
    "print(a)"
   ]
  },
  {
   "cell_type": "markdown",
   "metadata": {},
   "source": [
    "# get the lenght of set"
   ]
  },
  {
   "cell_type": "code",
   "execution_count": 7,
   "metadata": {},
   "outputs": [
    {
     "name": "stdout",
     "output_type": "stream",
     "text": [
      "{'insect', 1, 2, 3, 'human', 'fish', 'bird', 'animal'}\n",
      "8\n"
     ]
    }
   ],
   "source": [
    "a = {\"animal\", \"human\", \"bird\", \"fish\", \"insect\", 1,2,3,True}\n",
    "print(a)\n",
    "print(len(a))\n"
   ]
  },
  {
   "cell_type": "markdown",
   "metadata": {},
   "source": [
    "# set items - data types"
   ]
  },
  {
   "cell_type": "code",
   "execution_count": 10,
   "metadata": {},
   "outputs": [
    {
     "name": "stdout",
     "output_type": "stream",
     "text": [
      "{1, 2, 3, 4, 5}\n",
      "{1.1, 2.2, 3.3, 4.4, 5.5}\n",
      "{'e', 'd', 'a', 'b', 'c'}\n",
      "{False, True}\n",
      "{'cherry', 'banana', 'apple'}\n",
      "{False, 1, 2, 3, 4, 5, 1.1, 2.2, 3.3, 4.4, 5.5, 'b', 'd', 'e', 'apple', 'a', 'c', 'cherry', 'banana'}\n"
     ]
    }
   ],
   "source": [
    "x1 = {1, 2, 3, 4, 5}\n",
    "print(x1)\n",
    "x2 = {1.1, 2.2, 3.3, 4.4, 5.5}\n",
    "print(x2)\n",
    "x3 = {\"a\", \"b\", \"c\", \"d\", \"e\"}\n",
    "print(x3)\n",
    "x4 = {True, False, True, False}\n",
    "print(x4)\n",
    "x5 = {\"apple\", \"banana\", \"cherry\"}\n",
    "print(x5)\n",
    "x6 = {\"apple\", \"banana\", \"cherry\", 1, 2, 3, 4, 5, 1.1, 2.2, 3.3, 4.4, 5.5, \"a\", \"b\", \"c\", \"d\", \"e\", True, False, True, False}\n",
    "print(x6)"
   ]
  },
  {
   "cell_type": "code",
   "execution_count": 12,
   "metadata": {},
   "outputs": [
    {
     "ename": "TypeError",
     "evalue": "unhashable type: 'list'",
     "output_type": "error",
     "traceback": [
      "\u001b[1;31m---------------------------------------------------------------------------\u001b[0m",
      "\u001b[1;31mTypeError\u001b[0m                                 Traceback (most recent call last)",
      "Cell \u001b[1;32mIn[12], line 2\u001b[0m\n\u001b[0;32m      1\u001b[0m \u001b[38;5;66;03m# list cannot be a set item\u001b[39;00m\n\u001b[1;32m----> 2\u001b[0m x5 \u001b[38;5;241m=\u001b[39m {[\u001b[38;5;241m1\u001b[39m, \u001b[38;5;241m2\u001b[39m, \u001b[38;5;241m3\u001b[39m], [\u001b[38;5;241m4\u001b[39m, \u001b[38;5;241m5\u001b[39m, \u001b[38;5;241m6\u001b[39m]}\n\u001b[0;32m      3\u001b[0m \u001b[38;5;28mprint\u001b[39m(x5)\n",
      "\u001b[1;31mTypeError\u001b[0m: unhashable type: 'list'"
     ]
    }
   ],
   "source": [
    "# list cannot be a set item\n",
    "x5 = {[1, 2, 3], [4, 5, 6]}\n",
    "print(x5)"
   ]
  },
  {
   "cell_type": "code",
   "execution_count": 13,
   "metadata": {},
   "outputs": [
    {
     "name": "stdout",
     "output_type": "stream",
     "text": [
      "{(1, 2, 3), (4, 5, 6)}\n"
     ]
    }
   ],
   "source": [
    "# tuple can be a set item\n",
    "x6 = {(1, 2, 3), (4, 5, 6)}\n",
    "print(x6)"
   ]
  },
  {
   "cell_type": "code",
   "execution_count": 14,
   "metadata": {},
   "outputs": [
    {
     "ename": "TypeError",
     "evalue": "unhashable type: 'set'",
     "output_type": "error",
     "traceback": [
      "\u001b[1;31m---------------------------------------------------------------------------\u001b[0m",
      "\u001b[1;31mTypeError\u001b[0m                                 Traceback (most recent call last)",
      "Cell \u001b[1;32mIn[14], line 2\u001b[0m\n\u001b[0;32m      1\u001b[0m \u001b[38;5;66;03m# dictionary cannot be a set item\u001b[39;00m\n\u001b[1;32m----> 2\u001b[0m x7 \u001b[38;5;241m=\u001b[39m {{\u001b[38;5;241m1\u001b[39m, \u001b[38;5;241m2\u001b[39m, \u001b[38;5;241m3\u001b[39m}, {\u001b[38;5;241m4\u001b[39m, \u001b[38;5;241m5\u001b[39m, \u001b[38;5;241m6\u001b[39m}}\n\u001b[0;32m      3\u001b[0m \u001b[38;5;28mprint\u001b[39m(x7)\n",
      "\u001b[1;31mTypeError\u001b[0m: unhashable type: 'set'"
     ]
    }
   ],
   "source": [
    "# dictionary cannot be a set item\n",
    "x7 = {{1, 2, 3}, {4, 5, 6}}\n",
    "print(x7)"
   ]
  },
  {
   "cell_type": "code",
   "execution_count": 15,
   "metadata": {},
   "outputs": [
    {
     "ename": "TypeError",
     "evalue": "unhashable type: 'set'",
     "output_type": "error",
     "traceback": [
      "\u001b[1;31m---------------------------------------------------------------------------\u001b[0m",
      "\u001b[1;31mTypeError\u001b[0m                                 Traceback (most recent call last)",
      "Cell \u001b[1;32mIn[15], line 2\u001b[0m\n\u001b[0;32m      1\u001b[0m \u001b[38;5;66;03m# Nesting a set\u001b[39;00m\n\u001b[1;32m----> 2\u001b[0m x8 \u001b[38;5;241m=\u001b[39m {\u001b[38;5;241m1\u001b[39m, \u001b[38;5;241m2\u001b[39m, \u001b[38;5;241m3\u001b[39m, {\u001b[38;5;241m4\u001b[39m, \u001b[38;5;241m5\u001b[39m, \u001b[38;5;241m6\u001b[39m}}\n\u001b[0;32m      3\u001b[0m \u001b[38;5;28mprint\u001b[39m(x8)\n",
      "\u001b[1;31mTypeError\u001b[0m: unhashable type: 'set'"
     ]
    }
   ],
   "source": [
    "# Nesting a set\n",
    "x8 = {1, 2, 3, {4, 5, 6}}\n",
    "print(x8)"
   ]
  },
  {
   "cell_type": "markdown",
   "metadata": {},
   "source": [
    "# set() constructor"
   ]
  },
  {
   "cell_type": "code",
   "execution_count": 16,
   "metadata": {},
   "outputs": [
    {
     "name": "stdout",
     "output_type": "stream",
     "text": [
      "{'cherry', 'banana', 'apple'}\n",
      "<class 'set'>\n"
     ]
    }
   ],
   "source": [
    "thisset = set((\"apple\", \"banana\", \"cherry\")) # note the double round-brackets\n",
    "print(thisset)\n",
    "print(type(thisset))"
   ]
  },
  {
   "cell_type": "markdown",
   "metadata": {},
   "source": [
    "# creating empty set"
   ]
  },
  {
   "cell_type": "code",
   "execution_count": 20,
   "metadata": {},
   "outputs": [
    {
     "name": "stdout",
     "output_type": "stream",
     "text": [
      "{}\n",
      "<class 'dict'>\n",
      "set()\n",
      "<class 'set'>\n"
     ]
    }
   ],
   "source": [
    "# creating a empty set\n",
    "a = {}\n",
    "print(a)\n",
    "print(type(a))\n",
    "\n",
    "empty_set = set()\n",
    "print(empty_set)\n",
    "print(type(empty_set))"
   ]
  },
  {
   "cell_type": "code",
   "execution_count": null,
   "metadata": {},
   "outputs": [],
   "source": []
  }
 ],
 "metadata": {
  "kernelspec": {
   "display_name": "base",
   "language": "python",
   "name": "python3"
  },
  "language_info": {
   "codemirror_mode": {
    "name": "ipython",
    "version": 3
   },
   "file_extension": ".py",
   "mimetype": "text/x-python",
   "name": "python",
   "nbconvert_exporter": "python",
   "pygments_lexer": "ipython3",
   "version": "3.11.5"
  }
 },
 "nbformat": 4,
 "nbformat_minor": 2
}
