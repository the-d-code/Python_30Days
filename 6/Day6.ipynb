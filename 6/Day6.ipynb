{
 "cells": [
  {
   "cell_type": "markdown",
   "metadata": {},
   "source": [
    "# 10-01-2023 | DAY 6  | User define function"
   ]
  },
  {
   "cell_type": "markdown",
   "metadata": {},
   "source": [
    "# UDF"
   ]
  },
  {
   "cell_type": "code",
   "execution_count": 6,
   "metadata": {},
   "outputs": [],
   "source": [
    "# creating user-defined functions\n",
    "\n",
    "def my_function():\n",
    "    print(\"Hello from a function\")\n"
   ]
  },
  {
   "cell_type": "code",
   "execution_count": 7,
   "metadata": {},
   "outputs": [
    {
     "name": "stdout",
     "output_type": "stream",
     "text": [
      "Hello from a function\n"
     ]
    }
   ],
   "source": [
    "# calling a function\n",
    "\n",
    "my_function()"
   ]
  },
  {
   "cell_type": "code",
   "execution_count": 8,
   "metadata": {},
   "outputs": [],
   "source": [
    "# making results of students\n",
    "\n",
    "def contact():\n",
    "    print(\"contact details\")\n",
    "    print(\"Name: John Doe\")\n",
    "    print(\"Phone: 1234567890\")\n",
    "    print(\"Email:d@gmail.com\")\n",
    "    "
   ]
  },
  {
   "cell_type": "code",
   "execution_count": null,
   "metadata": {},
   "outputs": [],
   "source": [
    "# call the function\n",
    "\n",
    "for i in range(3):\n",
    "    a = input(\"Enter your name: \")\n",
    "    b = int(input(\"Enter the marks of maths: \"))\n",
    "    c = int(input(\"Enter the marks of science: \"))\n",
    "    d = int(input(\"Enter the marks of english: \"))\n",
    "    e = int(input(\"Enter the marks of nepali: \"))\n",
    "    f = int(input(\"Enter the marks of social: \"))\n",
    "    print()\n",
    "    contact()\n",
    "    "
   ]
  },
  {
   "cell_type": "markdown",
   "metadata": {},
   "source": [
    "# Arguments"
   ]
  },
  {
   "cell_type": "code",
   "execution_count": 2,
   "metadata": {},
   "outputs": [
    {
     "name": "stdout",
     "output_type": "stream",
     "text": [
      "Emil Refsnes\n"
     ]
    }
   ],
   "source": [
    "# Arguments\n",
    "\n",
    "def my_function(fname):\n",
    "    print(fname + \" Refsnes\")\n",
    "\n",
    "# call the function\n",
    "\n",
    "my_function(\"Emil\")\n"
   ]
  },
  {
   "cell_type": "code",
   "execution_count": 3,
   "metadata": {},
   "outputs": [
    {
     "name": "stdout",
     "output_type": "stream",
     "text": [
      "Devanshi Akbari\n"
     ]
    }
   ],
   "source": [
    "def my_function(fname, lname):\n",
    "    print(fname + \" \" + lname)\n",
    "\n",
    "# call the function\n",
    "\n",
    "my_function(\"Devanshi\", \"Akbari\")"
   ]
  },
  {
   "cell_type": "code",
   "execution_count": 6,
   "metadata": {},
   "outputs": [
    {
     "name": "stdout",
     "output_type": "stream",
     "text": [
      "Electricity bill: Rs. 4265.0\n"
     ]
    }
   ],
   "source": [
    "# program to calaculate the electricity bill\n",
    "\n",
    "def bill(units):\n",
    "    if units <= 50:\n",
    "        bill = units * 3.50\n",
    "    elif units <= 150:\n",
    "        bill = 50 * 3.50 + (units - 50) * 4.00\n",
    "    elif units <= 250:\n",
    "        bill = 50 * 3.50 + 100 * 4.00 + (units - 150) * 5.20\n",
    "    elif units > 250:\n",
    "        bill = 50 * 3.50 + 100 * 4.00 + 100 * 5.20 + (units - 250) * 6.50\n",
    "    else:\n",
    "        bill = 50 * 3.50 + 100 * 4.00 + 100 * 5.20 + (units - 250) * 6.50\n",
    "    return bill + 50\n",
    "\n",
    "units = int(input(\"Enter the units: \"))\n",
    "print(\"Electricity bill: Rs.\", bill(units))\n"
   ]
  },
  {
   "cell_type": "code",
   "execution_count": null,
   "metadata": {},
   "outputs": [],
   "source": []
  }
 ],
 "metadata": {
  "kernelspec": {
   "display_name": "base",
   "language": "python",
   "name": "python3"
  },
  "language_info": {
   "codemirror_mode": {
    "name": "ipython",
    "version": 3
   },
   "file_extension": ".py",
   "mimetype": "text/x-python",
   "name": "python",
   "nbconvert_exporter": "python",
   "pygments_lexer": "ipython3",
   "version": "3.11.5"
  }
 },
 "nbformat": 4,
 "nbformat_minor": 2
}
