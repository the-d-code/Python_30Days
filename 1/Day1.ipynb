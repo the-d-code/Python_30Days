{
 "cells": [
  {
   "cell_type": "markdown",
   "id": "d0eb4607",
   "metadata": {},
   "source": [
    "# 09-01-2023 | DAY 1 | Basics of Python Programming & Installation "
   ]
  },
  {
   "cell_type": "markdown",
   "id": "e6518cd0",
   "metadata": {},
   "source": [
    "Markdown for small heading"
   ]
  },
  {
   "cell_type": "code",
   "execution_count": 1,
   "id": "20d2dc3e",
   "metadata": {},
   "outputs": [
    {
     "name": "stdout",
     "output_type": "stream",
     "text": [
      "Hello Python from Devanshi Aakbari\n"
     ]
    }
   ],
   "source": [
    "print(\"Hello Python from Devanshi Aakbari\")"
   ]
  },
  {
   "cell_type": "code",
   "execution_count": 2,
   "id": "aa2f266f",
   "metadata": {},
   "outputs": [
    {
     "name": "stdout",
     "output_type": "stream",
     "text": [
      "5\n"
     ]
    }
   ],
   "source": [
    "print(2+3)"
   ]
  },
  {
   "cell_type": "code",
   "execution_count": null,
   "id": "0df9d6c1",
   "metadata": {},
   "outputs": [],
   "source": []
  }
 ],
 "metadata": {
  "kernelspec": {
   "display_name": "Python 3 (ipykernel)",
   "language": "python",
   "name": "python3"
  },
  "language_info": {
   "codemirror_mode": {
    "name": "ipython",
    "version": 3
   },
   "file_extension": ".py",
   "mimetype": "text/x-python",
   "name": "python",
   "nbconvert_exporter": "python",
   "pygments_lexer": "ipython3",
   "version": "3.11.5"
  }
 },
 "nbformat": 4,
 "nbformat_minor": 5
}
