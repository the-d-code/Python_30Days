{
 "cells": [
  {
   "cell_type": "markdown",
   "metadata": {},
   "source": [
    "# 11-01-2023 | DAY 10 | Dictionary"
   ]
  },
  {
   "cell_type": "code",
   "execution_count": 1,
   "metadata": {},
   "outputs": [
    {
     "name": "stdout",
     "output_type": "stream",
     "text": [
      "{'name': 'John', 'age': 25, 'job': 'DevOps'}\n"
     ]
    }
   ],
   "source": [
    "# creating a dictionary\n",
    "\n",
    "a = {'name': 'John', 'age': 25, 'job': 'DevOps'}\n",
    "print(a)"
   ]
  },
  {
   "cell_type": "code",
   "execution_count": 3,
   "metadata": {},
   "outputs": [
    {
     "name": "stdout",
     "output_type": "stream",
     "text": [
      "{'ID': '1', 'COLOR': 'RED', 'YEAR': 2019}\n",
      "<class 'dict'>\n"
     ]
    }
   ],
   "source": [
    "a = {\n",
    "    \"ID\" : \"1\",\n",
    "    \"COLOR\": \"RED\",\n",
    "    \"YEAR\": 2019\n",
    "}\n",
    "print(a)\n",
    "print(type(a))"
   ]
  },
  {
   "cell_type": "code",
   "execution_count": 4,
   "metadata": {},
   "outputs": [
    {
     "name": "stdout",
     "output_type": "stream",
     "text": [
      "RED\n"
     ]
    }
   ],
   "source": [
    "# print to chechk the value of a key orderd or not\n",
    "print(a[\"COLOR\"])"
   ]
  },
  {
   "cell_type": "code",
   "execution_count": 7,
   "metadata": {},
   "outputs": [
    {
     "name": "stdout",
     "output_type": "stream",
     "text": [
      "{'ID': '1', 'COLOR': 'RED', 'YEAR': 2019, 'Year': 2020}\n",
      "{'ID': '1', 'COLOR': 'RED', 'YEAR': 2020}\n"
     ]
    }
   ],
   "source": [
    "a = {\n",
    "    \"ID\" : \"1\",\n",
    "    \"COLOR\": \"RED\",\n",
    "    \"YEAR\": 2019,\n",
    "    \"Year\": 2020\n",
    "}\n",
    "\n",
    "ab = {\n",
    "    \"ID\" : \"1\",\n",
    "    \"COLOR\": \"RED\",\n",
    "    \"YEAR\": 2019,\n",
    "    \"YEAR\": 2020\n",
    "}\n",
    "print(a)\n",
    "print(ab)"
   ]
  },
  {
   "cell_type": "markdown",
   "metadata": {},
   "source": [
    "# dictionary lenght"
   ]
  },
  {
   "cell_type": "code",
   "execution_count": 8,
   "metadata": {},
   "outputs": [
    {
     "name": "stdout",
     "output_type": "stream",
     "text": [
      "5\n"
     ]
    }
   ],
   "source": [
    "a = {\n",
    "    \"ID\" : \"1\",\n",
    "    \"COLOR\": \"RED\",\n",
    "    \"YEAR\": 2019,\n",
    "    \"Year\": 2020,\n",
    "    \"year\": 2021\n",
    "}\n",
    "print(len(a))"
   ]
  },
  {
   "cell_type": "code",
   "execution_count": 13,
   "metadata": {},
   "outputs": [
    {
     "name": "stdout",
     "output_type": "stream",
     "text": [
      "{'ID': '1', 'COLOR': 'RED', 'YEAR': 2019, 'a': [1, 2, 3, 4, 5], 'b': (1, 2, 3, 4, 5), 'c': False}\n"
     ]
    }
   ],
   "source": [
    "# data types in dictionary\n",
    "a = {\n",
    "    \"ID\" : \"1\",\n",
    "    \"COLOR\": \"RED\",\n",
    "    \"YEAR\": 2019,\n",
    "    'a':[1,2,3,4,5],\n",
    "    'b':(1,2,3,4,5),\n",
    "    'c': False\n",
    "    }\n",
    "print(a)"
   ]
  },
  {
   "cell_type": "markdown",
   "metadata": {},
   "source": [
    "# dict()"
   ]
  },
  {
   "cell_type": "code",
   "execution_count": 15,
   "metadata": {},
   "outputs": [
    {
     "name": "stdout",
     "output_type": "stream",
     "text": [
      "{'name': 'John', 'age': 25, 'job': 'DevOps'}\n"
     ]
    }
   ],
   "source": [
    "a = dict(name='John', age=25, job='DevOps')\n",
    "print(a)"
   ]
  },
  {
   "cell_type": "markdown",
   "metadata": {},
   "source": [
    "# know key name"
   ]
  },
  {
   "cell_type": "code",
   "execution_count": 16,
   "metadata": {},
   "outputs": [
    {
     "name": "stdout",
     "output_type": "stream",
     "text": [
      "dict_keys(['ID', 'COLOR', 'YEAR', 'a', 'b', 'c'])\n"
     ]
    }
   ],
   "source": [
    "a = {\n",
    "    \"ID\" : \"1\",\n",
    "    \"COLOR\": \"RED\",\n",
    "    \"YEAR\": 2019,\n",
    "    'a':[1,2,3,4,5],\n",
    "    'b':(1,2,3,4,5),\n",
    "    'c': False\n",
    "    }\n",
    "x = a.keys()\n",
    "print(x)\n",
    "\n"
   ]
  },
  {
   "cell_type": "code",
   "execution_count": 17,
   "metadata": {},
   "outputs": [
    {
     "name": "stdout",
     "output_type": "stream",
     "text": [
      "dict_values(['John', 25, 'DevOps'])\n"
     ]
    }
   ],
   "source": [
    "# know singal keys value\n",
    "a = dict(name='John', age=25, job='DevOps')\n",
    "y = a.values()\n",
    "print(y)"
   ]
  },
  {
   "cell_type": "code",
   "execution_count": 18,
   "metadata": {},
   "outputs": [
    {
     "name": "stdout",
     "output_type": "stream",
     "text": [
      "{'name': 'Mike', 'age': 25, 'job': 'DevOps'}\n"
     ]
    }
   ],
   "source": [
    "# change the value of a key\n",
    "a = dict(name='John', age=25, job='DevOps')\n",
    "a['name'] = 'Mike'\n",
    "print(a)"
   ]
  },
  {
   "cell_type": "code",
   "execution_count": 20,
   "metadata": {},
   "outputs": [
    {
     "name": "stdout",
     "output_type": "stream",
     "text": [
      "{'name': 'John', 'age': 25, 'job': 'DevOps', 'salary': 5000}\n",
      "{'name': 'John', 'age': 25, 'job': 'DevOps', 'location': 'London'}\n"
     ]
    }
   ],
   "source": [
    "# add a new key\n",
    "a = dict(name='John', age=25, job='DevOps')\n",
    "a['salary'] = 5000\n",
    "print(a)\n",
    "\n",
    "# update a dictionary\n",
    "a = dict(name='John', age=25, job='DevOps')\n",
    "b = dict(location='London')\n",
    "a.update(b)\n",
    "print(a)"
   ]
  },
  {
   "cell_type": "code",
   "execution_count": 22,
   "metadata": {},
   "outputs": [
    {
     "name": "stdout",
     "output_type": "stream",
     "text": [
      "{'name': 'John', 'job': 'DevOps'}\n",
      "{'name': 'John', 'job': 'DevOps'}\n"
     ]
    }
   ],
   "source": [
    "# remove a key from dictionary\n",
    "a = dict(name='John', age=25, job='DevOps')\n",
    "a.pop('age')\n",
    "print(a)\n",
    "\n",
    "# remove using delete keyword \n",
    "a = dict(name='John', age=25, job='DevOps')\n",
    "del a['age']\n",
    "print(a)\n"
   ]
  },
  {
   "cell_type": "code",
   "execution_count": 23,
   "metadata": {},
   "outputs": [
    {
     "name": "stdout",
     "output_type": "stream",
     "text": [
      "{}\n"
     ]
    }
   ],
   "source": [
    "# remove dict using clear keyword\n",
    "a = dict(name='John', age=25, job='DevOps')\n",
    "a.clear()\n",
    "print(a)"
   ]
  },
  {
   "cell_type": "code",
   "execution_count": 24,
   "metadata": {},
   "outputs": [
    {
     "name": "stdout",
     "output_type": "stream",
     "text": [
      "{1: 30, 2: 50, 4: 60, 5: 70, 6: 80}\n"
     ]
    }
   ],
   "source": [
    "dict1 = {1:30, 2:40}\n",
    "dict2 = {2:50, 4:60}\n",
    "dict3 = {5:70, 6:80}\n",
    "dict4 = {}\n",
    "for d in (dict1, dict2, dict3):\n",
    "    dict4.update(d)\n",
    "print(dict4)\n"
   ]
  },
  {
   "cell_type": "code",
   "execution_count": 25,
   "metadata": {},
   "outputs": [
    {
     "name": "stdout",
     "output_type": "stream",
     "text": [
      "{1: 1, 2: 4, 3: 9, 4: 16, 5: 25, 6: 36, 7: 49, 8: 64, 9: 81, 10: 100, 11: 121, 12: 144, 13: 169, 14: 196, 15: 225}\n"
     ]
    }
   ],
   "source": [
    "d = dict()\n",
    "for x in range(1,16):\n",
    "    d[x] = x**2\n",
    "print(d)"
   ]
  },
  {
   "cell_type": "code",
   "execution_count": null,
   "metadata": {},
   "outputs": [],
   "source": []
  }
 ],
 "metadata": {
  "kernelspec": {
   "display_name": "base",
   "language": "python",
   "name": "python3"
  },
  "language_info": {
   "codemirror_mode": {
    "name": "ipython",
    "version": 3
   },
   "file_extension": ".py",
   "mimetype": "text/x-python",
   "name": "python",
   "nbconvert_exporter": "python",
   "pygments_lexer": "ipython3",
   "version": "3.11.5"
  }
 },
 "nbformat": 4,
 "nbformat_minor": 2
}
